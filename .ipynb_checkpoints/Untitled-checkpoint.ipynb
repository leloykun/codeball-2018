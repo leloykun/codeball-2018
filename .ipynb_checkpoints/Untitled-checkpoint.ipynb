{
 "cells": [
  {
   "cell_type": "code",
   "execution_count": 13,
   "metadata": {},
   "outputs": [],
   "source": [
    "import numpy as np"
   ]
  },
  {
   "cell_type": "code",
   "execution_count": 28,
   "metadata": {},
   "outputs": [],
   "source": [
    "def length(x):\n",
    "    return np.linalg.norm(x)"
   ]
  },
  {
   "cell_type": "code",
   "execution_count": 29,
   "metadata": {},
   "outputs": [],
   "source": [
    "def clamp(x, v):\n",
    "    l = length(x)\n",
    "    if l < v:\n",
    "        return x\n",
    "    return x * (v/l)"
   ]
  },
  {
   "cell_type": "code",
   "execution_count": 30,
   "metadata": {},
   "outputs": [],
   "source": [
    "def normalize(x):\n",
    "    return x / len(x)"
   ]
  },
  {
   "cell_type": "code",
   "execution_count": 47,
   "metadata": {},
   "outputs": [],
   "source": [
    "ROBOT_ACCELERATION = 100\n",
    "def recalc_vel(velocity, normal, action_velocity):\n",
    "    print(velocity, normal, action_velocity)\n",
    "    target_velocity = clamp(action_velocity, 30)\n",
    "    target_velocity -= normal * np.dot(normal, target_velocity)\n",
    "    print(target_velocity)\n",
    "    delta_velocity = target_velocity - velocity\n",
    "    print(delta_velocity)\n",
    "    if np.linalg.norm(delta_velocity) > 0:\n",
    "        acceleration = ROBOT_ACCELERATION * max(0, normal[1])\n",
    "        velocity += clamp(\n",
    "            normalize(delta_velocity) * acceleration * 1/60.0, \n",
    "            length(delta_velocity))\n",
    "    return velocity"
   ]
  },
  {
   "cell_type": "code",
   "execution_count": 48,
   "metadata": {},
   "outputs": [],
   "source": [
    "p = np.asarray([10.308029, 1.0, -17.138977])\n",
    "v = np.asarray([0.0, 0.0, 0.0])\n",
    "rad = 1.0\n",
    "n = np.asarray([0.0, 1.0, 0.0])\n",
    "av = np.asarray([0.0, 0.0, 30.0])\n",
    "aj = 15.0"
   ]
  },
  {
   "cell_type": "code",
   "execution_count": 49,
   "metadata": {},
   "outputs": [
    {
     "name": "stdout",
     "output_type": "stream",
     "text": [
      "[0. 0. 0.] [0. 1. 0.] [ 0.  0. 30.]\n",
      "[ 0.  0. 30.]\n",
      "[ 0.  0. 30.]\n"
     ]
    },
    {
     "data": {
      "text/plain": [
       "array([ 0.        ,  0.        , 16.66666667])"
      ]
     },
     "execution_count": 49,
     "metadata": {},
     "output_type": "execute_result"
    }
   ],
   "source": [
    "v = recalc_vel(v, n, av)\n",
    "v"
   ]
  },
  {
   "cell_type": "code",
   "execution_count": null,
   "metadata": {},
   "outputs": [],
   "source": []
  }
 ],
 "metadata": {
  "kernelspec": {
   "display_name": "Python 3",
   "language": "python",
   "name": "python3"
  },
  "language_info": {
   "codemirror_mode": {
    "name": "ipython",
    "version": 3
   },
   "file_extension": ".py",
   "mimetype": "text/x-python",
   "name": "python",
   "nbconvert_exporter": "python",
   "pygments_lexer": "ipython3",
   "version": "3.6.7"
  }
 },
 "nbformat": 4,
 "nbformat_minor": 2
}
