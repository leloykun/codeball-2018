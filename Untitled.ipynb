{
 "cells": [
  {
   "cell_type": "code",
   "execution_count": 13,
   "metadata": {},
   "outputs": [],
   "source": [
    "import numpy as np"
   ]
  },
  {
   "cell_type": "code",
   "execution_count": 28,
   "metadata": {},
   "outputs": [],
   "source": [
    "def length(x):\n",
    "    return np.linalg.norm(x)"
   ]
  },
  {
   "cell_type": "code",
   "execution_count": 29,
   "metadata": {},
   "outputs": [],
   "source": [
    "def clamp(x, v):\n",
    "    l = length(x)\n",
    "    if l < v:\n",
    "        return x\n",
    "    return x * (v/l)"
   ]
  },
  {
   "cell_type": "code",
   "execution_count": 30,
   "metadata": {},
   "outputs": [],
   "source": [
    "def normalize(x):\n",
    "    return x / len(x)"
   ]
  },
  {
   "cell_type": "code",
   "execution_count": 56,
   "metadata": {},
   "outputs": [],
   "source": [
    "ROBOT_ACCELERATION = 100\n",
    "DELTA_TIME = 1/60.0\n",
    "def recalc_vel(velocity, normal, action_velocity):\n",
    "    #print(velocity, normal, action_velocity)\n",
    "    target_velocity = clamp(action_velocity, 30)\n",
    "    target_velocity -= normal * np.dot(normal, target_velocity)\n",
    "    #print(target_velocity)\n",
    "    delta_velocity = target_velocity - velocity\n",
    "    #print(delta_velocity)\n",
    "    if np.linalg.norm(delta_velocity) > 0:\n",
    "        acceleration = ROBOT_ACCELERATION * max(0, normal[1])\n",
    "        #print(acceleration)\n",
    "        velocity += clamp(\n",
    "            normalize(delta_velocity) * acceleration * DELTA_TIME, \n",
    "            length(delta_velocity))\n",
    "    return velocity"
   ]
  },
  {
   "cell_type": "code",
   "execution_count": 57,
   "metadata": {},
   "outputs": [],
   "source": [
    "MAX_ENTITY_SPEED = 100\n",
    "GRAVITY = 30\n",
    "def move(velocity, position):\n",
    "    velocity = clamp(velocity, MAX_ENTITY_SPEED)\n",
    "    position += velocity * DELTA_TIME\n",
    "    position[1] -= GRAVITY * DELTA_TIME * DELTA_TIME / 2.0\n",
    "    velocity[1] -= GRAVITY * DELTA_TIME"
   ]
  },
  {
   "cell_type": "code",
   "execution_count": 58,
   "metadata": {},
   "outputs": [],
   "source": [
    "p = np.asarray([10.308029, 1.0, -17.138977])\n",
    "v = np.asarray([0.0, 0.0, 0.0])\n",
    "rad = 1.0\n",
    "n = np.asarray([0.0, 1.0, 0.0])\n",
    "av = np.asarray([0.0, 0.0, 30.0])\n",
    "aj = 15.0"
   ]
  },
  {
   "cell_type": "code",
   "execution_count": 59,
   "metadata": {},
   "outputs": [
    {
     "data": {
      "text/plain": [
       "array([ 0.        ,  0.        , 16.66666667])"
      ]
     },
     "execution_count": 59,
     "metadata": {},
     "output_type": "execute_result"
    }
   ],
   "source": [
    "v = recalc_vel(v, n, av)\n",
    "v"
   ]
  },
  {
   "cell_type": "code",
   "execution_count": 60,
   "metadata": {},
   "outputs": [
    {
     "name": "stdout",
     "output_type": "stream",
     "text": [
      "[ 0.         -0.5        16.66666667] [ 10.308029     0.99583333 -16.86119922]\n"
     ]
    }
   ],
   "source": [
    "move(v, p)\n",
    "print(v, p)"
   ]
  },
  {
   "cell_type": "code",
   "execution_count": 62,
   "metadata": {},
   "outputs": [],
   "source": [
    "rad = 1.05\n",
    "rad_change_speed = aj"
   ]
  },
  {
   "cell_type": "code",
   "execution_count": 66,
   "metadata": {},
   "outputs": [
    {
     "name": "stdout",
     "output_type": "stream",
     "text": [
      "[ 10.308029     1.05       -16.86119922] [ 0.         -0.5        16.66666667]\n"
     ]
    }
   ],
   "source": [
    "ARENA_E = 0.0\n",
    "distance = p[1]\n",
    "normal = np.asarray([0.0, 1.0, 0.0])\n",
    "penetration = rad - distance\n",
    "if penetration > 0:\n",
    "    p += penetration * normal\n",
    "    vel = np.dot(v, normal) - rad_change_speed\n",
    "    if vel < 0:\n",
    "        v -= (1 + ARENA_E) * vel * normal\n",
    "print(p, v)"
   ]
  }
 ],
 "metadata": {
  "kernelspec": {
   "display_name": "Python 3",
   "language": "python",
   "name": "python3"
  },
  "language_info": {
   "codemirror_mode": {
    "name": "ipython",
    "version": 3
   },
   "file_extension": ".py",
   "mimetype": "text/x-python",
   "name": "python",
   "nbconvert_exporter": "python",
   "pygments_lexer": "ipython3",
   "version": "3.6.7"
  }
 },
 "nbformat": 4,
 "nbformat_minor": 2
}
